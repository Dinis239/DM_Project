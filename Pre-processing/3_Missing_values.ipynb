{
 "cells": [
  {
   "cell_type": "markdown",
   "id": "e6daed4b",
   "metadata": {},
   "source": [
    "### Missing Values\n",
    "\n",
    "**Project:** Data Mining I (2025/26)\n",
    "\n",
    "**Group:** 15\n",
    "\n",
    "**Members:**\n",
    "- Beatriz Boura\n",
    "- Dinis Gaspar\n",
    "- Leonor Cardoso\n",
    "- Margarida Cruz"
   ]
  }
 ],
 "metadata": {
  "language_info": {
   "name": "python"
  }
 },
 "nbformat": 4,
 "nbformat_minor": 5
}
