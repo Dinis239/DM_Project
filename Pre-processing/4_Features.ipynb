{
 "cells": [
  {
   "cell_type": "markdown",
   "id": "4552bdd8",
   "metadata": {},
   "source": [
    "### Features Transformation & Selection\n",
    "\n",
    "**Project:** Data Mining I (2025/26)\n",
    "\n",
    "**Group:** 15\n",
    "\n",
    "**Members:**\n",
    "- Beatriz Boura\n",
    "- Dinis Gaspar\n",
    "- Leonor Cardoso\n",
    "- Margarida Cruz"
   ]
  },
  {
   "cell_type": "code",
   "execution_count": null,
   "id": "8042b693",
   "metadata": {
    "vscode": {
     "languageId": "plaintext"
    }
   },
   "outputs": [],
   "source": []
  },
  {
   "cell_type": "code",
   "execution_count": null,
   "id": "172798d3",
   "metadata": {
    "vscode": {
     "languageId": "plaintext"
    }
   },
   "outputs": [],
   "source": []
  },
  {
   "cell_type": "code",
   "execution_count": null,
   "id": "7dd18ecd",
   "metadata": {
    "vscode": {
     "languageId": "plaintext"
    }
   },
   "outputs": [],
   "source": []
  }
 ],
 "metadata": {
  "language_info": {
   "name": "python"
  }
 },
 "nbformat": 4,
 "nbformat_minor": 5
}
