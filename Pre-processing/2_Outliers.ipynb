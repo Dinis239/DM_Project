{
 "cells": [
  {
   "cell_type": "markdown",
   "id": "952ddac0",
   "metadata": {},
   "source": [
    "### Outliers\n",
    "\n",
    "**Project:** Data Mining I (2025/26)\n",
    "\n",
    "**Group:** 15\n",
    "\n",
    "**Members:**\n",
    "- Beatriz Boura\n",
    "- Dinis Gaspar\n",
    "- Leonor Cardoso\n",
    "- Margarida Cruz"
   ]
  }
 ],
 "metadata": {
  "language_info": {
   "name": "python"
  }
 },
 "nbformat": 4,
 "nbformat_minor": 5
}
